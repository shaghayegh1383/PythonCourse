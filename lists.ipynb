{
 "cells": [
  {
   "cell_type": "code",
   "execution_count": 1,
   "metadata": {},
   "outputs": [
    {
     "name": "stdout",
     "output_type": "stream",
     "text": [
      "['jack', 'shaghayegh', 'asal', 'ali']\n"
     ]
    }
   ],
   "source": [
    "names = ['jack' , 'shaghayegh' , 'asal' , 'ali' ]\n",
    "print (names)"
   ]
  },
  {
   "cell_type": "code",
   "execution_count": 4,
   "metadata": {},
   "outputs": [
    {
     "name": "stdout",
     "output_type": "stream",
     "text": [
      "['shaghayegh', 'asal', 'ali']\n"
     ]
    }
   ],
   "source": [
    "names = ['jack' , 'shaghayegh' , 'asal' , 'ali' ]\n",
    "print (names[1:])"
   ]
  },
  {
   "cell_type": "code",
   "execution_count": 5,
   "metadata": {},
   "outputs": [
    {
     "name": "stdout",
     "output_type": "stream",
     "text": [
      "['maryam', 'shaghayegh', 'asal', 'ali']\n"
     ]
    }
   ],
   "source": [
    "names = ['jack' , 'shaghayegh' , 'asal' , 'ali' ]\n",
    "names [0] = 'maryam'\n",
    "print (names)"
   ]
  },
  {
   "cell_type": "code",
   "execution_count": 7,
   "metadata": {},
   "outputs": [
    {
     "name": "stdout",
     "output_type": "stream",
     "text": [
      "['jack', 'shaghayegh', 'asal', 'ali', 'sima']\n",
      "5\n"
     ]
    }
   ],
   "source": [
    "names = ['jack' , 'shaghayegh' , 'asal' , 'ali' ]\n",
    "names.append ('sima')\n",
    "print (names)\n",
    "\n",
    "print (len(names))"
   ]
  }
 ],
 "metadata": {
  "kernelspec": {
   "display_name": "Python 3",
   "language": "python",
   "name": "python3"
  },
  "language_info": {
   "codemirror_mode": {
    "name": "ipython",
    "version": 3
   },
   "file_extension": ".py",
   "mimetype": "text/x-python",
   "name": "python",
   "nbconvert_exporter": "python",
   "pygments_lexer": "ipython3",
   "version": "3.12.2"
  }
 },
 "nbformat": 4,
 "nbformat_minor": 2
}
