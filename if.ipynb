{
 "cells": [
  {
   "cell_type": "code",
   "execution_count": 2,
   "metadata": {},
   "outputs": [
    {
     "name": "stdout",
     "output_type": "stream",
     "text": [
      "more\n"
     ]
    }
   ],
   "source": [
    "x = int (input('Enter a number'))\n",
    "\n",
    "if x < 1:\n",
    "    print( 'less' )\n",
    "    \n",
    "elif x == 1:\n",
    "    print( 'equla' )\n",
    "elif x > 1:\n",
    "    print('more')"
   ]
  },
  {
   "cell_type": "code",
   "execution_count": null,
   "metadata": {},
   "outputs": [],
   "source": [
    "\n",
    "#if conditionA:\n",
    "        # Code here executes when 'conditionA' is True\n",
    "#else:\n",
    "        # Code that runs when 'conditionA' is False\n",
    "\n",
    "#       if conditionB:\n",
    "            # Code that runs when 'conditionA' is False\n",
    "            # and 'conditionB' is True"
   ]
  }
 ],
 "metadata": {
  "kernelspec": {
   "display_name": "Python 3",
   "language": "python",
   "name": "python3"
  },
  "language_info": {
   "codemirror_mode": {
    "name": "ipython",
    "version": 3
   },
   "file_extension": ".py",
   "mimetype": "text/x-python",
   "name": "python",
   "nbconvert_exporter": "python",
   "pygments_lexer": "ipython3",
   "version": "3.12.2"
  }
 },
 "nbformat": 4,
 "nbformat_minor": 2
}
