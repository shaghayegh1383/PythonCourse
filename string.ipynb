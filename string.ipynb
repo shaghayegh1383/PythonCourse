{
 "cells": [
  {
   "cell_type": "code",
   "execution_count": null,
   "metadata": {},
   "outputs": [
    {
     "name": "stdout",
     "output_type": "stream",
     "text": [
      "Hello World\n"
     ]
    }
   ],
   "source": [
    "# چسباندن دو string به همدیگه\n",
    "a = 'Hello '\n",
    "b = 'World'\n",
    "\n",
    "x = a + b\n",
    "print ( x )"
   ]
  },
  {
   "cell_type": "code",
   "execution_count": 5,
   "metadata": {},
   "outputs": [
    {
     "name": "stdout",
     "output_type": "stream",
     "text": [
      "Hello, my name is shaghayegh How are you nice to meet you  This is my first project\n",
      "in python \n",
      "\n"
     ]
    }
   ],
   "source": [
    "#استزینگ طولانی\n",
    "\n",
    "intro = 'Hello, my name is shaghayegh'\\\n",
    "        ' How are you'\\\n",
    "            ' nice to meet you'\n",
    "\n",
    "\n",
    "a = \"\"\" This is my first project\n",
    "in python \n",
    "\"\"\"\n",
    "print (intro , a)"
   ]
  },
  {
   "cell_type": "code",
   "execution_count": null,
   "metadata": {},
   "outputs": [
    {
     "name": "stdout",
     "output_type": "stream",
     "text": [
      "28\n"
     ]
    }
   ],
   "source": [
    "intro = 'Hello, my name is shaghayegh'\n",
    "print(len(intro))  #تعداد کاراکترها\n",
    "# فاصله ها هم شمرده میشن"
   ]
  },
  {
   "cell_type": "code",
   "execution_count": 11,
   "metadata": {},
   "outputs": [
    {
     "name": "stdout",
     "output_type": "stream",
     "text": [
      "s\n",
      "agha\n",
      "aghayegh\n",
      "shaghayegh\n",
      "hga\n"
     ]
    }
   ],
   "source": [
    "name = 'shaghayegh'\n",
    "print (name [0] )\n",
    "print (name [2:6] ) #ایندکس 2 تا 6\n",
    "print (name [2:] ) # از ایندکس 2 تا آخر\n",
    "print (name [:10] ) #از اول تا شماره 10\n",
    "\n",
    "print ( name [1:6:2]) # دو تا دوتا میره"
   ]
  }
 ],
 "metadata": {
  "kernelspec": {
   "display_name": "Python 3",
   "language": "python",
   "name": "python3"
  },
  "language_info": {
   "codemirror_mode": {
    "name": "ipython",
    "version": 3
   },
   "file_extension": ".py",
   "mimetype": "text/x-python",
   "name": "python",
   "nbconvert_exporter": "python",
   "pygments_lexer": "ipython3",
   "version": "3.12.2"
  }
 },
 "nbformat": 4,
 "nbformat_minor": 2
}
